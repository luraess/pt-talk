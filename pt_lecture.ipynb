{
 "cells": [
  {
   "cell_type": "markdown",
   "source": [
    "# The accelerated pseudo-transient method\n",
    "\n",
    "### _Solving elliptic PDEs on GPUs_\n",
    "\n",
    "#### Ludovic Räss, _Ivan Utkin_\n",
    "\n",
    "![ethz](./figures/ethz.png)"
   ],
   "metadata": {
    "name": "A slide ",
    "slideshow": {
     "slide_type": "slide"
    }
   }
  },
  {
   "cell_type": "markdown",
   "source": [
    "### What we will cover in this lecture:\n",
    "- Why to solve PDEs on GPUs\n",
    "- Brief recap on PDEs\n",
    "- Solving Parabolic and hyperbolic PDEs\n",
    "- The challenge: solving elliptic PDEs on GPUs\n",
    "- The accelerated pseudo-transient method"
   ],
   "metadata": {
    "name": "A slide ",
    "slideshow": {
     "slide_type": "slide"
    }
   }
  },
  {
   "cell_type": "markdown",
   "source": [
    "### We will restrict us to:\n",
    "- Finite-difference discretisation (stencil computations)\n",
    "- Linear PDEs\n",
    "- 1D problems"
   ],
   "metadata": {
    "name": "A slide ",
    "slideshow": {
     "slide_type": "fragment"
    }
   }
  },
  {
   "cell_type": "markdown",
   "source": [
    "## Why to solve PDEs on GPUs (using Julia)?"
   ],
   "metadata": {
    "name": "A slide ",
    "slideshow": {
     "slide_type": "slide"
    }
   }
  },
  {
   "cell_type": "markdown",
   "source": [
    "![julia-gpu](./figures/julia-gpu.png)"
   ],
   "metadata": {
    "name": "A slide ",
    "slideshow": {
     "slide_type": "fragment"
    }
   }
  },
  {
   "cell_type": "markdown",
   "source": [
    "#### GPUs are cool\n",
    "Price vs Performance -> Close to **1.5TB/s** memory throughput (nonlinear diffusion) that one can achieve 🚀\n",
    "\n",
    "![perf_gpu](./figures/perf_gpu.png)"
   ],
   "metadata": {
    "name": "A slide ",
    "slideshow": {
     "slide_type": "slide"
    }
   }
  },
  {
   "cell_type": "markdown",
   "source": [
    "#### Julia is cool\n",
    "Solution to the \"two-language barrier\" -> a single code for prototyping and production\n",
    "\n",
    "![two_lang](./figures/two_lang.png)"
   ],
   "metadata": {
    "name": "A slide ",
    "slideshow": {
     "slide_type": "slide"
    }
   }
  },
  {
   "cell_type": "markdown",
   "source": [
    "A **partial differential equation (PDE)** is an equation which imposes relations between the various partial derivatives of a multivariable function. [_Wikipedia_](https://en.wikipedia.org/wiki/Partial_differential_equation)"
   ],
   "metadata": {
    "name": "A slide ",
    "slideshow": {
     "slide_type": "slide"
    }
   }
  },
  {
   "cell_type": "markdown",
   "source": [
    "> _**Classification of second-order PDEs:**_\n",
    ">  - **Parabolic:**\\\n",
    ">    $∂u/∂t - α ∇^2 u - b = 0$ (e.g. transient heat diffusion)\n",
    ">  - **Hyperbolic:**\\\n",
    ">    $∂^2u/∂t^2 - c^2 ∇^2 u = 0$ (e.g. acoustic wave equation)\n",
    ">  - **Elliptic:**\\\n",
    ">    $∇^2 u - b = 0$ (e.g. steady state diffusion, Laplacian)"
   ],
   "metadata": {
    "name": "A slide ",
    "slideshow": {
     "slide_type": "slide"
    }
   }
  },
  {
   "cell_type": "markdown",
   "source": [
    "## Parabolic PDEs - diffusion"
   ],
   "metadata": {
    "name": "A slide ",
    "slideshow": {
     "slide_type": "slide"
    }
   }
  },
  {
   "cell_type": "markdown",
   "source": [
    "### The diffusion equation\n",
    "\n",
    "<center>\n",
    "  <video width=\"80%\" autoplay loop controls src=\"./figures/diffusion_1D.mp4\"/>\n",
    "</center>"
   ],
   "metadata": {
    "name": "A slide ",
    "slideshow": {
     "slide_type": "fragment"
    }
   }
  },
  {
   "cell_type": "markdown",
   "source": [
    "The diffusion equation is often reported as a second order parabolic PDE, here for a multivariable function $C(x,t)$ showing derivatives in both temporal $∂t$ and spatial $∂x$ dimensions (here for the 1D case)\n",
    "\n",
    "$$\n",
    "\\frac{∂C}{∂t} = D\\frac{∂^2 C}{∂ x^2}~,\n",
    "$$\n",
    "\n",
    "where $D$ is the diffusion coefficient."
   ],
   "metadata": {
    "name": "A slide ",
    "slideshow": {
     "slide_type": "slide"
    }
   }
  },
  {
   "cell_type": "markdown",
   "source": [
    "A more general description combines a diffusive flux:\n",
    "\n",
    "$$ q = -D\\frac{∂C}{∂x}~,$$"
   ],
   "metadata": {
    "name": "A slide ",
    "slideshow": {
     "slide_type": "slide"
    }
   }
  },
  {
   "cell_type": "markdown",
   "source": [
    "and a conservation or flux balance equation:\n",
    "\n",
    "$$ \\frac{∂C}{∂t} = -\\frac{∂q}{∂x}~. $$"
   ],
   "metadata": {
    "name": "A slide ",
    "slideshow": {
     "slide_type": "fragment"
    }
   }
  },
  {
   "cell_type": "markdown",
   "source": [
    "A concise and efficient solution to the diffusion equation on GPUs can be achieved combining an explicit time integration and using a finite-difference spatial discretisation (stencil computations)."
   ],
   "metadata": {
    "name": "A slide ",
    "slideshow": {
     "slide_type": "slide"
    }
   }
  },
  {
   "cell_type": "markdown",
   "source": [
    "Let's recall that solving explicit wave propagation on GPUs is where it all started, mostly ([Micikevicius 2009](https://developer.download.nvidia.com/CUDA/CUDA_Zone/papers/gpu_3dfd_rev.pdf))."
   ],
   "metadata": {
    "name": "A slide ",
    "slideshow": {
     "slide_type": "fragment"
    }
   }
  },
  {
   "cell_type": "markdown",
   "source": [
    "## Hyperbolic PDEs - acoustic wave propagation"
   ],
   "metadata": {
    "name": "A slide ",
    "slideshow": {
     "slide_type": "slide"
    }
   }
  },
  {
   "cell_type": "markdown",
   "source": [
    "### The wave equation\n",
    "\n",
    "<center>\n",
    "  <video width=\"80%\" autoplay loop controls src=\"./figures/acoustic_1D.mp4\"/>\n",
    "</center>"
   ],
   "metadata": {
    "name": "A slide ",
    "slideshow": {
     "slide_type": "fragment"
    }
   }
  },
  {
   "cell_type": "markdown",
   "source": [
    "The [wave equation](https://en.wikipedia.org/wiki/Wave_equation) is a second-order linear partial differential equation for the description of waves —as they occur in classical physics— such as mechanical waves (e.g. water waves, sound waves and seismic waves) or light waves."
   ],
   "metadata": {
    "name": "A slide ",
    "slideshow": {
     "slide_type": "fragment"
    }
   }
  },
  {
   "cell_type": "markdown",
   "source": [
    "The hyperbolic equation reads\n",
    "\n",
    "$$ \\frac{∂^2P}{∂t^2} = c^2 ∇^2 P~,$$\n",
    "\n",
    "where\n",
    "- $P$ is pressure (or, displacement, or another scalar quantity...)\n",
    "- $c$ a real constant (speed of sound, stiffness, ...)"
   ],
   "metadata": {
    "name": "A slide ",
    "slideshow": {
     "slide_type": "slide"
    }
   }
  },
  {
   "cell_type": "markdown",
   "source": [
    "### From diffusion to acoustic wave propagation\n",
    "\n",
    "The hyperbolic (wave) equation can also be written as a first order system, similar to the one that we used to implement the diffusion equation."
   ],
   "metadata": {
    "name": "A slide ",
    "slideshow": {
     "slide_type": "slide"
    }
   }
  },
  {
   "cell_type": "markdown",
   "source": [
    "$$ \\frac{∂^2 P}{∂t^2} = c^2 ∇^2 P~,$$\n",
    "\n",
    "as two first order equations\n",
    "\n",
    "$$ \\frac{∂V_x}{∂t} = -\\frac{1}{ρ}~\\frac{∂P}{∂x}~,$$\n",
    "\n",
    "$$ \\frac{∂P}{∂t}  = -\\frac{1}{\\beta}~\\frac{∂V_x}{∂x}~.$$"
   ],
   "metadata": {
    "name": "A slide ",
    "slideshow": {
     "slide_type": "fragment"
    }
   }
  },
  {
   "cell_type": "markdown",
   "source": [
    "### Comparing the equations\n",
    "\n",
    "Comparing diffusive and wave physics, we can summarise following:\n",
    "\n",
    "| Diffusion                                                            | Wave propagation                                                                    |\n",
    "|:--------------------------------------------------------------------:|:-----------------------------------------------------------------------------------:|\n",
    "| $$ q = -D\\frac{\\partial C}{\\partial x} $$                            | $$ \\frac{\\partial V_x}{\\partial t} = -\\frac{1}{\\rho}\\frac{\\partial P}{\\partial x} $$  |\n",
    "| $$ \\frac{\\partial C}{\\partial t} = -\\frac{\\partial q}{\\partial x} $$ | $$ \\frac{\\partial P}{\\partial t} = -\\frac{1}{\\beta}\\frac{\\partial V_x}{\\partial x} $$ |\n",
    "\n",
    "👉 We see that the main difference is the update instead of the assignment of the \"flux\" in the wave propagation"
   ],
   "metadata": {
    "name": "A slide ",
    "slideshow": {
     "slide_type": "slide"
    }
   }
  },
  {
   "cell_type": "markdown",
   "source": [
    "## Towards solving the elliptic problem\n",
    "\n",
    "We have considered numerical solutions to the hyperbolic and parabolic PDEs.\n",
    "\n",
    "👉 In both cases we used the explicit time integration"
   ],
   "metadata": {
    "name": "A slide ",
    "slideshow": {
     "slide_type": "slide"
    }
   }
  },
  {
   "cell_type": "markdown",
   "source": [
    "The elliptic PDE is different:\n",
    "\n",
    "$$\n",
    "\\frac{\\partial^2 C}{\\partial x^2} = 0\n",
    "$$\n",
    "\n",
    "It doesn't depend on time! How do we solve it numerically then?"
   ],
   "metadata": {
    "name": "A slide ",
    "slideshow": {
     "slide_type": "fragment"
    }
   }
  },
  {
   "cell_type": "markdown",
   "source": [
    "### A first solution to the elliptic PDE"
   ],
   "metadata": {
    "name": "A slide ",
    "slideshow": {
     "slide_type": "slide"
    }
   }
  },
  {
   "cell_type": "markdown",
   "source": [
    "The solution of an elliptic PDE is actually the steady state limit of the time-dependent diffusion problem described by the parabolic PDE:\n",
    "\n",
    "$$\n",
    "\\frac{\\partial^2 C}{\\partial x^2} - \\frac{\\partial C}{\\partial t} = 0\n",
    "$$\n",
    "\n",
    "when $t\\rightarrow\\infty$, and we know how to solve parabolic PDEs."
   ],
   "metadata": {
    "name": "A slide ",
    "slideshow": {
     "slide_type": "fragment"
    }
   }
  },
  {
   "cell_type": "markdown",
   "source": [
    "Increasing the number of time steps `nt` in our diffusion code will allow the solution to converge towards a steady state:\n",
    "\n",
    "<center>\n",
    "  <video width=\"80%\" autoplay loop controls src=\"./figures/diffusion_1D_steady_state.mp4\"/>\n",
    "</center>"
   ],
   "metadata": {
    "name": "A slide ",
    "slideshow": {
     "slide_type": "slide"
    }
   }
  },
  {
   "cell_type": "markdown",
   "source": [
    "We approach the steady-state, but the number of time steps required to converge to a solution is proportional to `nx^2`."
   ],
   "metadata": {
    "name": "A slide ",
    "slideshow": {
     "slide_type": "slide"
    }
   }
  },
  {
   "cell_type": "markdown",
   "source": [
    "- For simulations in 1D and low resolutions in 2D the quadratic scaling is acceptable."
   ],
   "metadata": {
    "name": "A slide ",
    "slideshow": {
     "slide_type": "fragment"
    }
   }
  },
  {
   "cell_type": "markdown",
   "source": [
    "- For high-resolution 2D and 3D the `nx^2` factor becomes prohibitively expensive!"
   ],
   "metadata": {
    "name": "A slide ",
    "slideshow": {
     "slide_type": "fragment"
    }
   }
  },
  {
   "cell_type": "markdown",
   "source": [
    "But we know how to handle this 🚀"
   ],
   "metadata": {
    "name": "A slide ",
    "slideshow": {
     "slide_type": "fragment"
    }
   }
  },
  {
   "cell_type": "markdown",
   "source": [
    "## Solving elliptic PDEs\n",
    "\n",
    "We just established that the solution to the elliptic PDE could be obtained through integrating in time a corresponding parabolic PDE:\n",
    "\n",
    "$$\n",
    "\\frac{\\partial C}{\\partial t} - \\frac{\\partial^2 C}{\\partial x^2} = 0\n",
    "$$"
   ],
   "metadata": {
    "name": "A slide ",
    "slideshow": {
     "slide_type": "slide"
    }
   }
  },
  {
   "cell_type": "markdown",
   "source": [
    "with the major limitations of this approach being the quadratic dependence of the number of time steps on the number of grid points in spatial discretisation."
   ],
   "metadata": {
    "name": "A slide ",
    "slideshow": {
     "slide_type": "fragment"
    }
   }
  },
  {
   "cell_type": "markdown",
   "source": [
    "## Accelerating elliptic solver convergence: intuition\n",
    "\n",
    "We'll now improve the convergence rate of the elliptic solver (which can be generalised to higher dimensions)."
   ],
   "metadata": {
    "name": "A slide ",
    "slideshow": {
     "slide_type": "slide"
    }
   }
  },
  {
   "cell_type": "markdown",
   "source": [
    "Let's recall the stability conditions for diffusion and acoustic wave propagation:\n",
    "\n",
    "```julia\n",
    "dt = dx^2/dc/2      # diffusion\n",
    "dt = dx/sqrt(1/β/ρ) # acoustic wave propagation\n",
    "```"
   ],
   "metadata": {
    "name": "A slide ",
    "slideshow": {
     "slide_type": "fragment"
    }
   }
  },
  {
   "cell_type": "markdown",
   "source": [
    "We can see that the acceptable time step for an acoustic problem is proportional to the grid spacing `dx`, and not `dx^2` as for the diffusion."
   ],
   "metadata": {
    "name": "A slide ",
    "slideshow": {
     "slide_type": "fragment"
    }
   }
  },
  {
   "cell_type": "markdown",
   "source": [
    "The number of time steps required for the wave to propagate through the domain is only proportional to the number of grid points `nx`."
   ],
   "metadata": {
    "name": "A slide ",
    "slideshow": {
     "slide_type": "slide"
    }
   }
  },
  {
   "cell_type": "markdown",
   "source": [
    "Can we use that information to reduce the time required for the elliptic solver to converge?"
   ],
   "metadata": {
    "name": "A slide ",
    "slideshow": {
     "slide_type": "fragment"
    }
   }
  },
  {
   "cell_type": "markdown",
   "source": [
    "In the solution to the wave equation, the waves do not attenuate with time: _there is no steady state!_\n",
    "\n",
    "<center>\n",
    "  <video width=\"80%\" autoplay loop controls src=\"./figures/acoustic_1D.mp4\"/>\n",
    "</center>"
   ],
   "metadata": {
    "name": "A slide ",
    "slideshow": {
     "slide_type": "slide"
    }
   }
  },
  {
   "cell_type": "markdown",
   "source": [
    "### Damped wave equation\n",
    "\n",
    "Let's add diffusive properties to the wave equation by simply combining the physics:\n",
    "\n",
    "\\begin{align}\n",
    "\\rho\\frac{\\partial V_x}{\\partial t}                 &= -\\frac{\\partial P}{\\partial x} \\nonumber \\\\[10pt]\n",
    "\\beta\\frac{\\partial P}{\\partial t} + \\frac{P}{\\eta} &= -\\frac{\\partial V_x}{\\partial x} \\nonumber\n",
    "\\end{align}"
   ],
   "metadata": {
    "name": "A slide ",
    "slideshow": {
     "slide_type": "slide"
    }
   }
  },
  {
   "cell_type": "markdown",
   "source": [
    "Note the addition of the new term $\\frac{P}{\\eta}$ to the left-hand side of the mass balance equation, which could be interpreted physically as accounting for the bulk viscosity of the gas."
   ],
   "metadata": {
    "name": "A slide ",
    "slideshow": {
     "slide_type": "fragment"
    }
   }
  },
  {
   "cell_type": "markdown",
   "source": [
    "Equivalently, we could add the time derivative to the diffusion equation\n",
    "\n",
    "\\begin{align}\n",
    "\\rho\\frac{\\partial q}{\\partial t} + \\frac{q}{D} &= -\\frac{\\partial C}{\\partial x} \\nonumber \\\\[10pt]\n",
    "\\frac{\\partial C}{\\partial t}                   &= -\\frac{\\partial q}{\\partial x} \\nonumber\n",
    "\\end{align}"
   ],
   "metadata": {
    "name": "A slide ",
    "slideshow": {
     "slide_type": "slide"
    }
   }
  },
  {
   "cell_type": "markdown",
   "source": [
    "In that case, the new term would be $\\rho\\frac{\\partial q}{\\partial t}$, which could be interpreted physically as adding the inertia to the momentum equation for diffusive flux."
   ],
   "metadata": {
    "name": "A slide ",
    "slideshow": {
     "slide_type": "fragment"
    }
   }
  },
  {
   "cell_type": "markdown",
   "source": [
    "> 💡 Note: In 1D, both modifications are equivalent up to renaming the variables. The conceptual difference is that in the former case we add new terms to the vector quantity (diffusive flux $q$), and in the latter case we modify the equation governing the evolution of the scalar quantity (pressure $P$)."
   ],
   "metadata": {
    "name": "A slide ",
    "slideshow": {
     "slide_type": "slide"
    }
   }
  },
  {
   "cell_type": "markdown",
   "source": [
    "Let's eliminate $V_x$ and $q$ in both systems to get one governing equation for $P$ and $C$, respectively:"
   ],
   "metadata": {
    "name": "A slide ",
    "slideshow": {
     "slide_type": "slide"
    }
   }
  },
  {
   "cell_type": "markdown",
   "source": [
    "\\begin{align}\n",
    "\\beta\\frac{\\partial^2 P}{\\partial t^2} + \\frac{1}{\\eta}\\frac{\\partial P}{\\partial t} &= \\frac{1}{\\rho}\\frac{\\partial^2 P}{\\partial x^2} \\nonumber \\\\[10pt]\n",
    "\\rho\\frac{\\partial^2 C}{\\partial t^2} + \\frac{1}{D}\\frac{\\partial C}{\\partial t}     &= \\frac{\\partial^2 C}{\\partial x^2} \\nonumber\n",
    "\\end{align}"
   ],
   "metadata": {
    "name": "A slide ",
    "slideshow": {
     "slide_type": "fragment"
    }
   }
  },
  {
   "cell_type": "markdown",
   "source": [
    "We refer to such equations as the _**damped wave equations**_. They combine wave propagation with diffusion, which manifests as wave attenuation, or decay. The damped wave equation is a hyperbolic PDE."
   ],
   "metadata": {
    "name": "A slide ",
    "slideshow": {
     "slide_type": "slide"
    }
   }
  },
  {
   "cell_type": "markdown",
   "source": [
    "<center>\n",
    "  <video width=\"80%\" autoplay loop controls src=\"./figures/damped_diffusion_1D.mp4\"/>\n",
    "</center>"
   ],
   "metadata": {
    "name": "A slide ",
    "slideshow": {
     "slide_type": "fragment"
    }
   }
  },
  {
   "cell_type": "markdown",
   "source": [
    "The waves decay, now there is a steady state! 🎉 The time it takes to converge, however, doesn't seem to improve..."
   ],
   "metadata": {
    "name": "A slide ",
    "slideshow": {
     "slide_type": "fragment"
    }
   }
  },
  {
   "cell_type": "markdown",
   "source": [
    "Solve the hyperbolic PDE with the implicit flux term treatment, the time step should become proportional to the grid spacing `dx` instead of `dx^2`.\n",
    "\n",
    "Looking at the damped wave equation for $C$, and recalling the stability condition for wave propagation, we can modify the time step to the following:\n",
    "\n",
    "```julia\n",
    "dt   = dx/sqrt(1/ρ)\n",
    "```"
   ],
   "metadata": {
    "name": "A slide ",
    "slideshow": {
     "slide_type": "slide"
    }
   }
  },
  {
   "cell_type": "markdown",
   "source": [
    "Re-running the simulation we now get:\n",
    "\n",
    "<center>\n",
    "  <video width=\"80%\" autoplay loop controls src=\"./figures/damped_diffusion_better_1D.mp4\"/>\n",
    "</center>"
   ],
   "metadata": {
    "name": "A slide ",
    "slideshow": {
     "slide_type": "slide"
    }
   }
  },
  {
   "cell_type": "markdown",
   "source": [
    "Now, this is much better! We observe that in less time steps, we get a much faster convergence. However, we introduced the new parameter, $\\rho$. How does the solution depend on the value of $\\rho$?"
   ],
   "metadata": {
    "name": "A slide ",
    "slideshow": {
     "slide_type": "fragment"
    }
   }
  },
  {
   "cell_type": "markdown",
   "source": [
    "## Problem of finding the iteration parameters\n",
    "\n",
    "Changing the new parameter `ρ`, what happens to the solution?"
   ],
   "metadata": {
    "name": "A slide ",
    "slideshow": {
     "slide_type": "slide"
    }
   }
  },
  {
   "cell_type": "markdown",
   "source": [
    "![vary rho](./figures/vary_rho_2.png)\n",
    "\n",
    "We notice that depending on the value of the parameter `ρ`, the convergence to steady-state can be faster or slower. If `ρ` is too small, the process becomes diffusion-dominated, if `ρ` is too large, waves decay slowly."
   ],
   "metadata": {
    "name": "A slide ",
    "slideshow": {
     "slide_type": "fragment"
    }
   }
  },
  {
   "cell_type": "markdown",
   "source": [
    "If the parameter `ρ` has optimal value, the convergence to steady-state could be achieved in the number of time steps proportional to the number of grid points `nx` and not `nx^2` as for the parabolic PDE."
   ],
   "metadata": {
    "name": "A slide ",
    "slideshow": {
     "slide_type": "fragment"
    }
   }
  },
  {
   "cell_type": "markdown",
   "source": [
    "For linear PDEs it is possible to determine the optimal value for `ρ` analytically:\n",
    "```julia\n",
    "ρ = (lx/(dc*2π))^2\n",
    "```"
   ],
   "metadata": {
    "name": "A slide ",
    "slideshow": {
     "slide_type": "slide"
    }
   }
  },
  {
   "cell_type": "markdown",
   "source": [
    "How does one derive the optimal values for other problems and boundary conditions?\n",
    "Unfortunately, we don't have time to dive into details now...\n",
    "\n",
    "The idea of accelerating the convergence by increasing the order of PDE dates back to the work by [Frankel (1950)](https://doi.org/10.2307/2002770) where he studied the convergence rates of different iterative methods. Frankel noted the analogy between the iteration process and transient physics. In his work, the accelerated method was called the _second-order Richardson method_.\n",
    "\n",
    "👀 If interested, [Räss et al. (2022)](https://gmd.copernicus.org/articles/15/5757/2022/) paper is a good starting point."
   ],
   "metadata": {
    "name": "A slide ",
    "slideshow": {
     "slide_type": "fragment"
    }
   }
  },
  {
   "cell_type": "markdown",
   "source": [
    "## Pseudo-transient method\n",
    "\n",
    "We can thus call any method that builds upon the analogy to the transient physics the _pseudo-transient_ method."
   ],
   "metadata": {
    "name": "A slide ",
    "slideshow": {
     "slide_type": "slide"
    }
   }
  },
  {
   "cell_type": "markdown",
   "source": [
    "Using this analogy proves useful when studying multi-physics and nonlinear processes. The pseudo-transient method isn't restricted to solving the Poisson problems, but can be applied to a wide range of problems that are modelled with PDEs."
   ],
   "metadata": {
    "name": "A slide ",
    "slideshow": {
     "slide_type": "fragment"
    }
   }
  },
  {
   "cell_type": "markdown",
   "source": [
    "In a pseudo-transient method, we are interested only in a steady-state distributions of the unknown field variables such as concentration, temperature, etc."
   ],
   "metadata": {
    "name": "A slide ",
    "slideshow": {
     "slide_type": "fragment"
    }
   }
  },
  {
   "cell_type": "markdown",
   "source": [
    "We consider time steps as iterations in a numerical method. Therefore, we replace the time $t$ in the equations with _pseudo-time_ $\\tau$, and a time step `it` with iteration counter `iter`. When a pseudo-transient method converges, all the pseudo-time derivatives $\\partial/\\partial\\tau$, $\\partial^2/\\partial\\tau^2$ etc., vanish."
   ],
   "metadata": {
    "name": "A slide ",
    "slideshow": {
     "slide_type": "slide"
    }
   }
  },
  {
   "cell_type": "markdown",
   "source": [
    "> ⚠️ Warning: We should be careful when introducing the new pseudo-physical terms into the governing equations. We need to make sure that when iterations converge, i.e., if the pseudo-time derivatives are set to 0, the system of equations is identical to the original steady-state formulation."
   ],
   "metadata": {
    "name": "A slide ",
    "slideshow": {
     "slide_type": "fragment"
    }
   }
  },
  {
   "cell_type": "markdown",
   "source": [
    "For example, consider the damped acoustic problem that we introduced in the beginning:\n",
    "\n",
    "\\begin{align}\n",
    "\\rho\\frac{\\partial V_x}{\\partial\\tau}                 &= -\\frac{\\partial P}{\\partial x} \\nonumber \\\\[10pt]\n",
    "\\beta\\frac{\\partial P}{\\partial\\tau} + \\frac{P}{\\eta} &= -\\frac{\\partial V_x}{\\partial x} \\nonumber\n",
    "\\end{align}"
   ],
   "metadata": {
    "name": "A slide ",
    "slideshow": {
     "slide_type": "slide"
    }
   }
  },
  {
   "cell_type": "markdown",
   "source": [
    "At the steady-state, the second equation reads:\n",
    "\n",
    "$$\n",
    "\\frac{P}{\\eta} = -\\frac{\\partial V_x}{\\partial x}\n",
    "$$\n",
    "\n",
    "The velocity divergence is proportional to the pressure. If we wanted to solve the incompressible problem (i.e. the velocity divergence = 0), and were interested in the velocity distribution, this approach would lead to incorrect results. Only add new terms to the governing equations that vanish when the iterations converge!"
   ],
   "metadata": {
    "name": "A slide ",
    "slideshow": {
     "slide_type": "slide"
    }
   }
  },
  {
   "cell_type": "markdown",
   "source": [
    "### Visualising convergence\n",
    "\n",
    "The final addition to the simple elliptic solver is to monitor convergence and stop iterations when the error has reached predefined tolerance."
   ],
   "metadata": {
    "name": "A slide ",
    "slideshow": {
     "slide_type": "slide"
    }
   }
  },
  {
   "cell_type": "markdown",
   "source": [
    "To define the measure of error, we introduce the residual:\n",
    "\n",
    "$$\n",
    "r_C = D\\frac{\\partial^2 \\widehat{C}}{\\partial x^2}\n",
    "$$\n",
    "\n",
    "where $\\widehat{C}$ is the pseudo-transient solution."
   ],
   "metadata": {
    "name": "A slide ",
    "slideshow": {
     "slide_type": "fragment"
    }
   }
  },
  {
   "cell_type": "markdown",
   "source": [
    "There are many ways to define the error as the norm of the residual, the most popular ones are the $L_2$ norm and $L_\\infty$ norm. We can here use the $L_\\infty$ norm:\n",
    "\n",
    "$$\n",
    "\\|\\boldsymbol{r}\\|_\\infty = \\max_i(|r_i|)\n",
    "$$"
   ],
   "metadata": {
    "name": "A slide ",
    "slideshow": {
     "slide_type": "slide"
    }
   }
  },
  {
   "cell_type": "markdown",
   "source": [
    "<center>\n",
    "  <video width=\"80%\" autoplay loop controls src=\"./figures/converge_diffusion_1D.mp4\"/>\n",
    "</center>"
   ],
   "metadata": {
    "name": "A slide ",
    "slideshow": {
     "slide_type": "slide"
    }
   }
  },
  {
   "cell_type": "markdown",
   "source": [
    "## Wrapping-up\n",
    "\n",
    "- Switching from parabolic to hyperbolic PDE allows to approach the steady-state in number of iterations, proportional to the number of grid points\n",
    "- Pseudo-transient (PT) method is the matrix-free iterative method to solve elliptic (and other) PDEs by utilising the analogy to transient physics\n",
    "- Using the optimal iteration parameters is essential to ensure the fast convergence of the PT method\n",
    "- Extending the codes to 2D and 3D is straightforward with explicit time integration"
   ],
   "metadata": {
    "name": "A slide ",
    "slideshow": {
     "slide_type": "slide"
    }
   }
  }
 ],
 "nbformat_minor": 3,
 "metadata": {
  "language_info": {
   "file_extension": ".jl",
   "mimetype": "application/julia",
   "name": "julia",
   "version": "1.8.5"
  },
  "kernelspec": {
   "name": "julia-1.8",
   "display_name": "Julia 1.8.5",
   "language": "julia"
  }
 },
 "nbformat": 4
}
